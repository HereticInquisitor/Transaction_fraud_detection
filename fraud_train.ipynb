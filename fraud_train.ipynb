{
 "cells": [
  {
   "cell_type": "code",
   "execution_count": 1,
   "metadata": {},
   "outputs": [],
   "source": [
    "import numpy as np\n",
    "import pandas as pd\n",
    "import matplotlib as plt\n",
    "from sklearn.model_selection import train_test_split\n",
    "from sklearn.linear_model import SGDClassifier\n",
    "from sklearn.metrics import accuracy_score, f1_score\n",
    "\n",
    "\n",
    "\n",
    "data=pd.read_csv('fraudTrain.csv')\n",
    "data = data.drop(['trans_date_trans_time','merchant','last','first','street','city','job','dob','trans_num'], axis=1)\n"
   ]
  },
  {
   "cell_type": "code",
   "execution_count": 2,
   "metadata": {},
   "outputs": [
    {
     "name": "stdout",
     "output_type": "stream",
     "text": [
      "0          0\n",
      "1          0\n",
      "2          0\n",
      "3          0\n",
      "4          0\n",
      "          ..\n",
      "1296670    0\n",
      "1296671    0\n",
      "1296672    0\n",
      "1296673    0\n",
      "1296674    0\n",
      "Name: is_fraud, Length: 1296675, dtype: int64\n",
      "         Unnamed: 0               cc_num       category     amt gender state  \\\n",
      "0                 0     2703186189652095       misc_net    4.97      F    NC   \n",
      "1                 1         630423337322    grocery_pos  107.23      F    WA   \n",
      "2                 2       38859492057661  entertainment  220.11      M    ID   \n",
      "3                 3     3534093764340240  gas_transport   45.00      M    MT   \n",
      "4                 4      375534208663984       misc_pos   41.96      M    VA   \n",
      "...             ...                  ...            ...     ...    ...   ...   \n",
      "1296670     1296670       30263540414123  entertainment   15.56      M    UT   \n",
      "1296671     1296671     6011149206456997    food_dining   51.70      M    MD   \n",
      "1296672     1296672     3514865930894695    food_dining  105.93      M    NM   \n",
      "1296673     1296673     2720012583106919    food_dining   74.90      M    SD   \n",
      "1296674     1296674  4292902571056973207    food_dining    4.30      M    MT   \n",
      "\n",
      "           zip      lat      long  city_pop   unix_time  merch_lat  \\\n",
      "0        28654  36.0788  -81.1781      3495  1325376018  36.011293   \n",
      "1        99160  48.8878 -118.2105       149  1325376044  49.159047   \n",
      "2        83252  42.1808 -112.2620      4154  1325376051  43.150704   \n",
      "3        59632  46.2306 -112.1138      1939  1325376076  47.034331   \n",
      "4        24433  38.4207  -79.4629        99  1325376186  38.674999   \n",
      "...        ...      ...       ...       ...         ...        ...   \n",
      "1296670  84735  37.7175 -112.4777       258  1371816728  36.841266   \n",
      "1296671  21790  39.2667  -77.5101       100  1371816739  38.906881   \n",
      "1296672  88325  32.9396 -105.8189       899  1371816752  33.619513   \n",
      "1296673  57756  43.3526 -102.5411      1126  1371816816  42.788940   \n",
      "1296674  59871  45.8433 -113.8748       218  1371816817  46.565983   \n",
      "\n",
      "         merch_long  is_fraud  \n",
      "0        -82.048315         0  \n",
      "1       -118.186462         0  \n",
      "2       -112.154481         0  \n",
      "3       -112.561071         0  \n",
      "4        -78.632459         0  \n",
      "...             ...       ...  \n",
      "1296670 -111.690765         0  \n",
      "1296671  -78.246528         0  \n",
      "1296672 -105.130529         0  \n",
      "1296673 -103.241160         0  \n",
      "1296674 -114.186110         0  \n",
      "\n",
      "[1296675 rows x 14 columns]\n"
     ]
    }
   ],
   "source": [
    "X=data.loc[:,:]\n",
    "y=data.loc[: ,'is_fraud']\n",
    "print(y)\n",
    "print(X)\n"
   ]
  },
  {
   "attachments": {},
   "cell_type": "markdown",
   "metadata": {},
   "source": [
    "[0 0 0 ... 0 0 0]\n",
    "0.9961671345281796\n",
    "0.0"
   ]
  }
 ],
 "metadata": {
  "kernelspec": {
   "display_name": "Python 3",
   "language": "python",
   "name": "python3"
  },
  "language_info": {
   "codemirror_mode": {
    "name": "ipython",
    "version": 3
   },
   "file_extension": ".py",
   "mimetype": "text/x-python",
   "name": "python",
   "nbconvert_exporter": "python",
   "pygments_lexer": "ipython3",
   "version": "3.10.10"
  },
  "orig_nbformat": 4
 },
 "nbformat": 4,
 "nbformat_minor": 2
}
