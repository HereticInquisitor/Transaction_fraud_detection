{
 "cells": [
  {
   "cell_type": "code",
   "execution_count": 1,
   "metadata": {},
   "outputs": [],
   "source": [
    "import numpy as np\n",
    "import pandas as pd\n",
    "import matplotlib as plt\n",
    "import seaborn as sns\n",
    "from sklearn.model_selection import train_test_split\n",
    "from sklearn.linear_model import SGDClassifier, LogisticRegression\n",
    "from sklearn.metrics import accuracy_score, f1_score\n",
    "\n",
    "\n",
    "data=pd.read_csv('fraudTrain.csv')\n",
    "data = data.drop(['trans_date_trans_time','merchant','last','first','street','city','job','dob','trans_num'], axis=1)\n",
    "data = data.drop(data.columns[0], axis = 1)\n",
    "data = data.sample(n= 1000, random_state=42)"
   ]
  },
  {
   "cell_type": "code",
   "execution_count": 2,
   "metadata": {},
   "outputs": [
    {
     "data": {
      "text/plain": [
       "8"
      ]
     },
     "execution_count": 2,
     "metadata": {},
     "output_type": "execute_result"
    }
   ],
   "source": [
    "data['is_fraud'].sum()"
   ]
  },
  {
   "cell_type": "code",
   "execution_count": 3,
   "metadata": {},
   "outputs": [
    {
     "name": "stdout",
     "output_type": "stream",
     "text": [
      "1045211    0\n",
      "547406     0\n",
      "110142     0\n",
      "1285953    0\n",
      "271705     0\n",
      "          ..\n",
      "262600     0\n",
      "175085     0\n",
      "225779     0\n",
      "519313     0\n",
      "252187     0\n",
      "Name: is_fraud, Length: 1000, dtype: int64\n"
     ]
    }
   ],
   "source": [
    "X=data.loc[:,:]\n",
    "y=data.loc[: ,'is_fraud']\n",
    "print(y)\n",
    "# print(X.shape[1])\n"
   ]
  },
  {
   "cell_type": "code",
   "execution_count": 4,
   "metadata": {},
   "outputs": [],
   "source": [
    "# Split the data into training and testing sets\n",
    "X_train, X_test, y_train, y_test = train_test_split(X, y, test_size=0.2, random_state=42)\n",
    "columns = X_train.columns\n",
    "# print(X_train.shape[1])\n",
    "# print(X_test.shape[1])"
   ]
  },
  {
   "cell_type": "code",
   "execution_count": 5,
   "metadata": {},
   "outputs": [
    {
     "data": {
      "text/plain": [
       "Index(['cc_num', 'category', 'amt', 'gender', 'state', 'zip', 'lat', 'long',\n",
       "       'city_pop', 'unix_time', 'merch_lat', 'merch_long', 'is_fraud'],\n",
       "      dtype='object')"
      ]
     },
     "execution_count": 5,
     "metadata": {},
     "output_type": "execute_result"
    }
   ],
   "source": [
    "columns"
   ]
  },
  {
   "cell_type": "code",
   "execution_count": 6,
   "metadata": {},
   "outputs": [
    {
     "name": "stdout",
     "output_type": "stream",
     "text": [
      "75\n",
      "75\n"
     ]
    },
    {
     "name": "stderr",
     "output_type": "stream",
     "text": [
      "c:\\Users\\ayush\\AppData\\Local\\Programs\\Python\\Python310\\lib\\site-packages\\sklearn\\preprocessing\\_encoders.py:828: FutureWarning: `sparse` was renamed to `sparse_output` in version 1.2 and will be removed in 1.4. `sparse_output` is ignored unless you leave `sparse` to its default value.\n",
      "  warnings.warn(\n"
     ]
    }
   ],
   "source": [
    "pd.set_option('display.max_columns',None)\n",
    "from sklearn.compose import ColumnTransformer\n",
    "from sklearn.preprocessing import OneHotEncoder\n",
    "ct = ColumnTransformer(transformers=[('encoder', OneHotEncoder(sparse=False), [1,3,4])], remainder='passthrough')\n",
    "X_train = ct.fit_transform(X_train)\n",
    "X_test = ct.transform(X_test)\n",
    "print(X_train.shape[1])\n",
    "print(X_test.shape[1])"
   ]
  },
  {
   "cell_type": "code",
   "execution_count": 7,
   "metadata": {},
   "outputs": [],
   "source": [
    "# clf=SGDClassifier(loss='hinge',random_state=42)\n",
    "from sklearn.svm import SVC\n",
    "classifier = SVC(kernel = 'linear', random_state = 0)\n",
    "classifier.fit(X_train, y_train)\n",
    "y_pred = classifier.predict(X_test)\n",
    "\n",
    "from sklearn.metrics import confusion_matrix, accuracy_score\n",
    "cm = confusion_matrix(y_test, y_pred)\n",
    "print(cm)\n",
    "accuracy_score(y_test, y_pred)"
   ]
  },
  {
   "cell_type": "code",
   "execution_count": null,
   "metadata": {},
   "outputs": [],
   "source": [
    "y_pred_initial = y_pred_initial.reshape(-1, 1)\n",
    "y_test = y_test.values.reshape(-1, 1)\n",
    "arr = np.concatenate((y_test, y_pred_initial), axis = 1)\n",
    "df = pd.DataFrame(arr, columns = ['Original Values', 'Predicted Value'])\n",
    "df"
   ]
  },
  {
   "cell_type": "code",
   "execution_count": null,
   "metadata": {},
   "outputs": [],
   "source": [
    "# # Plotting the Features in a scatterplot\n",
    "# import pandas as pd\n",
    "# import matplotlib.pyplot as plt\n",
    "\n",
    "# # Create a grid of plots\n",
    "# fig, axs = plt.subplots(nrows=2, ncols=2, figsize=(10, 10))\n",
    "\n",
    "# # Plot the first scatterplot\n",
    "# axs[0, 0].scatter(X_train, y_train)\n",
    "# axs[0, 0].set_xlabel(\"X_train\")\n",
    "# axs[0, 0].set_ylabel('y_train')\n",
    "# axs[0, 0].set_title('Scatterplot 1')\n",
    "\n",
    "# # # Plot the second scatterplot\n",
    "# # axs[0, 1].scatter(data['x'], data['z'])\n",
    "# # axs[0, 1].set_xlabel('X')\n",
    "# # axs[0, 1].set_ylabel('Z')\n",
    "# # axs[0, 1].set_title('Scatterplot 2')\n",
    "\n",
    "# # # Plot the third scatterplot\n",
    "# # axs[1, 0].scatter(data['x'], data['w'])\n",
    "# # axs[1, 0].set_xlabel('X')\n",
    "# # axs[1, 0].set_ylabel('W')\n",
    "# # axs[1, 0].set_title('Scatterplot 3')\n",
    "\n",
    "# # # Plot the fourth scatterplot\n",
    "# # axs[1, 1].scatter(data['y'], data['z'])\n",
    "# # axs[1, 1].set_xlabel('Y')\n",
    "# # axs[1, 1].set_ylabel('Z')\n",
    "# # axs[1, 1].set_title('Scatterplot 4')\n",
    "\n",
    "# # Show the plot\n",
    "# plt.show()"
   ]
  },
  {
   "cell_type": "code",
   "execution_count": null,
   "metadata": {},
   "outputs": [],
   "source": [
    "# Define a function to update the model with new data\n",
    "# def update_model(X_ne, y_ne):\n",
    "    # Scale the new data\n",
    "    # new_data = scaler.transform(new_data)\n",
    "    # Update the model with the new data\n",
    "    # clf.partial_fit(X_ne, y_ne, classes=[0,1])\n",
    "\n"
   ]
  },
  {
   "cell_type": "code",
   "execution_count": null,
   "metadata": {},
   "outputs": [],
   "source": [
    "#  Generate new data for testing the update function\n",
    "new_data = pd.read_csv(\"fraudTest.csv\")\n",
    "new_data = new_data.drop(['trans_date_trans_time','merchant','last','first','street','city','job','dob','trans_num'], axis=1)\n",
    "new_data = new_data.drop(new_data.columns[0], axis = 1)\n",
    "\n",
    "\n",
    "# Split the new data into features and labels\n",
    "X_new = new_data.loc[:,:]\n",
    "y_new = new_data.loc[:,'is_fraud']\n",
    "\n",
    "# ct = ColumnTransformer(transformers=[('encoder', OneHotEncoder(sparse=False), [2,4,5])], remainder='passthrough')\n",
    "X_new = ct.transform(X_new)\n",
    "# print(X_new)\n",
    "# print(y_new)\n",
    "# X_test = ct.fit_transform(X_test)\n",
    "# print(X_new.shape[1])\n",
    "# print(X_train.shape[1])"
   ]
  },
  {
   "cell_type": "code",
   "execution_count": null,
   "metadata": {},
   "outputs": [
    {
     "name": "stdout",
     "output_type": "stream",
     "text": [
      "0.9961401355721147\n"
     ]
    }
   ],
   "source": [
    "y_pred = clf.predict(X_new)\n",
    "accuracy = accuracy_score(y_new, y_pred)\n",
    "# initial_f1 = f1_score(y_test, y_pred_initial)\n",
    "\n",
    "print(accuracy)"
   ]
  },
  {
   "cell_type": "code",
   "execution_count": null,
   "metadata": {},
   "outputs": [],
   "source": [
    "y_pred = y_pred.reshape(-1, 1)"
   ]
  },
  {
   "cell_type": "code",
   "execution_count": null,
   "metadata": {},
   "outputs": [],
   "source": [
    "y_new = y_new.values.reshape(-1, 1)"
   ]
  },
  {
   "cell_type": "code",
   "execution_count": null,
   "metadata": {},
   "outputs": [
    {
     "data": {
      "text/plain": [
       "array([[0, 0],\n",
       "       [0, 0],\n",
       "       [0, 0],\n",
       "       ...,\n",
       "       [0, 0],\n",
       "       [0, 0],\n",
       "       [0, 0]], dtype=int64)"
      ]
     },
     "execution_count": 282,
     "metadata": {},
     "output_type": "execute_result"
    }
   ],
   "source": [
    "arr = np.concatenate((y_new, y_pred), axis = 1)\n",
    "arr"
   ]
  },
  {
   "cell_type": "code",
   "execution_count": null,
   "metadata": {},
   "outputs": [
    {
     "data": {
      "text/html": [
       "<div>\n",
       "<style scoped>\n",
       "    .dataframe tbody tr th:only-of-type {\n",
       "        vertical-align: middle;\n",
       "    }\n",
       "\n",
       "    .dataframe tbody tr th {\n",
       "        vertical-align: top;\n",
       "    }\n",
       "\n",
       "    .dataframe thead th {\n",
       "        text-align: right;\n",
       "    }\n",
       "</style>\n",
       "<table border=\"1\" class=\"dataframe\">\n",
       "  <thead>\n",
       "    <tr style=\"text-align: right;\">\n",
       "      <th></th>\n",
       "      <th>Original Values</th>\n",
       "      <th>Predicted Value</th>\n",
       "    </tr>\n",
       "  </thead>\n",
       "  <tbody>\n",
       "    <tr>\n",
       "      <th>0</th>\n",
       "      <td>0</td>\n",
       "      <td>0</td>\n",
       "    </tr>\n",
       "    <tr>\n",
       "      <th>1</th>\n",
       "      <td>0</td>\n",
       "      <td>0</td>\n",
       "    </tr>\n",
       "    <tr>\n",
       "      <th>2</th>\n",
       "      <td>0</td>\n",
       "      <td>0</td>\n",
       "    </tr>\n",
       "    <tr>\n",
       "      <th>3</th>\n",
       "      <td>0</td>\n",
       "      <td>0</td>\n",
       "    </tr>\n",
       "    <tr>\n",
       "      <th>4</th>\n",
       "      <td>0</td>\n",
       "      <td>0</td>\n",
       "    </tr>\n",
       "    <tr>\n",
       "      <th>...</th>\n",
       "      <td>...</td>\n",
       "      <td>...</td>\n",
       "    </tr>\n",
       "    <tr>\n",
       "      <th>555714</th>\n",
       "      <td>0</td>\n",
       "      <td>0</td>\n",
       "    </tr>\n",
       "    <tr>\n",
       "      <th>555715</th>\n",
       "      <td>0</td>\n",
       "      <td>0</td>\n",
       "    </tr>\n",
       "    <tr>\n",
       "      <th>555716</th>\n",
       "      <td>0</td>\n",
       "      <td>0</td>\n",
       "    </tr>\n",
       "    <tr>\n",
       "      <th>555717</th>\n",
       "      <td>0</td>\n",
       "      <td>0</td>\n",
       "    </tr>\n",
       "    <tr>\n",
       "      <th>555718</th>\n",
       "      <td>0</td>\n",
       "      <td>0</td>\n",
       "    </tr>\n",
       "  </tbody>\n",
       "</table>\n",
       "<p>555719 rows × 2 columns</p>\n",
       "</div>"
      ],
      "text/plain": [
       "        Original Values  Predicted Value\n",
       "0                     0                0\n",
       "1                     0                0\n",
       "2                     0                0\n",
       "3                     0                0\n",
       "4                     0                0\n",
       "...                 ...              ...\n",
       "555714                0                0\n",
       "555715                0                0\n",
       "555716                0                0\n",
       "555717                0                0\n",
       "555718                0                0\n",
       "\n",
       "[555719 rows x 2 columns]"
      ]
     },
     "execution_count": 283,
     "metadata": {},
     "output_type": "execute_result"
    }
   ],
   "source": [
    "df = pd.DataFrame(arr, columns = ['Original Values', 'Predicted Value'])\n",
    "df\n"
   ]
  },
  {
   "cell_type": "code",
   "execution_count": null,
   "metadata": {},
   "outputs": [],
   "source": [
    "df.to_csv('file1.csv', index = False)"
   ]
  },
  {
   "cell_type": "code",
   "execution_count": null,
   "metadata": {},
   "outputs": [
    {
     "data": {
      "text/plain": [
       "0"
      ]
     },
     "execution_count": 285,
     "metadata": {},
     "output_type": "execute_result"
    }
   ],
   "source": [
    "df['Predicted Value'].sum()"
   ]
  },
  {
   "cell_type": "code",
   "execution_count": null,
   "metadata": {},
   "outputs": [
    {
     "data": {
      "text/plain": [
       "2145"
      ]
     },
     "execution_count": 286,
     "metadata": {},
     "output_type": "execute_result"
    }
   ],
   "source": [
    "df['Original Values'].sum()"
   ]
  },
  {
   "cell_type": "code",
   "execution_count": null,
   "metadata": {},
   "outputs": [
    {
     "name": "stdout",
     "output_type": "stream",
     "text": [
      "0.9941388551487458\n"
     ]
    },
    {
     "name": "stderr",
     "output_type": "stream",
     "text": [
      "c:\\Users\\ayush\\AppData\\Local\\Programs\\Python\\Python310\\lib\\site-packages\\sklearn\\utils\\validation.py:1143: DataConversionWarning: A column-vector y was passed when a 1d array was expected. Please change the shape of y to (n_samples, ), for example using ravel().\n",
      "  y = column_or_1d(y, warn=True)\n"
     ]
    }
   ],
   "source": [
    "\n",
    "\n",
    "# Update the model with the new data\n",
    "# update_model(X_new, y_new)\n",
    "\n",
    "\n",
    "# print(y_pred_initial)\n",
    "\n",
    "\n",
    "# print(initial_f1)"
   ]
  },
  {
   "cell_type": "code",
   "execution_count": null,
   "metadata": {},
   "outputs": [
    {
     "name": "stdout",
     "output_type": "stream",
     "text": [
      "Initial accuracy: 99.41%\n",
      "Initial F1 score: 0.00\n",
      "Updated accuracy: 99.61%\n",
      "Updated F1 score: 0.00\n"
     ]
    }
   ],
   "source": [
    "# Evaluate the model on the updated test set\n",
    "y_pred_updated = clf.predict(X_test)\n",
    "updated_accuracy = accuracy_score(y_test, y_pred_updated)\n",
    "updated_f1 = f1_score(y_test, y_pred_updated)\n",
    "\n",
    "# Print the results\n",
    "print(\"Initial accuracy: {:.2f}%\".format(initial_accuracy*100))\n",
    "print(\"Initial F1 score: {:.2f}\".format(initial_f1))\n",
    "print(\"Updated accuracy: {:.2f}%\".format(accuracy*100))\n",
    "print(\"Updated F1 score: {:.2f}\".format(updated_f1))"
   ]
  }
 ],
 "metadata": {
  "kernelspec": {
   "display_name": "Python 3",
   "language": "python",
   "name": "python3"
  },
  "language_info": {
   "codemirror_mode": {
    "name": "ipython",
    "version": 3
   },
   "file_extension": ".py",
   "mimetype": "text/x-python",
   "name": "python",
   "nbconvert_exporter": "python",
   "pygments_lexer": "ipython3",
   "version": "3.10.10"
  },
  "orig_nbformat": 4
 },
 "nbformat": 4,
 "nbformat_minor": 2
}
